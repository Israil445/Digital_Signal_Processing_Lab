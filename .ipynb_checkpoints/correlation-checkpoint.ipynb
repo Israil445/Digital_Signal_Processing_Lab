{
 "cells": [
  {
   "cell_type": "code",
   "execution_count": 8,
   "id": "9a03004f-fe6b-4854-8cff-874d839c4b44",
   "metadata": {},
   "outputs": [
    {
     "name": "stdout",
     "output_type": "stream",
     "text": [
      "{-100: 0, -99: 0, -98: 0, -97: 0, -96: 0, -95: 0, -94: 0, -93: 0, -92: 0, -91: 0, -90: 0, -89: 0, -88: 0, -87: 0, -86: 0, -85: 0, -84: 0, -83: 0, -82: 0, -81: 0, -80: 0, -79: 0, -78: 0, -77: 0, -76: 0, -75: 0, -74: 0, -73: 0, -72: 0, -71: 0, -70: 0, -69: 0, -68: 0, -67: 0, -66: 0, -65: 0, -64: 0, -63: 0, -62: 0, -61: 0, -60: 0, -59: 0, -58: 0, -57: 0, -56: 0, -55: 0, -54: 0, -53: 0, -52: 0, -51: 0, -50: 0, -49: 0, -48: 0, -47: 0, -46: 0, -45: 0, -44: 0, -43: 0, -42: 0, -41: 0, -40: 0, -39: 0, -38: 0, -37: 0, -36: 0, -35: 0, -34: 0, -33: 0, -32: 0, -31: 0, -30: 0, -29: 0, -28: 0, -27: 0, -26: 0, -25: 0, -24: 0, -23: 0, -22: 0, -21: 0, -20: 0, -19: 0, -18: 0, -17: 0, -16: 0, -15: 0, -14: 0, -13: 0, -12: 0, -11: 0, -10: 0, -9: 0, -8: 0, -7: 0, -6: 0, -5: 0, -4: 0, -3: 1, -2: 4, -1: 6, 0: 6, 1: 5, 2: 2, 3: 1, 4: 0, 5: 0, 6: 0, 7: 0, 8: 0, 9: 0, 10: 0, 11: 0, 12: 0, 13: 0, 14: 0, 15: 0, 16: 0, 17: 0, 18: 0, 19: 0, 20: 0, 21: 0, 22: 0, 23: 0, 24: 0, 25: 0, 26: 0, 27: 0, 28: 0, 29: 0, 30: 0, 31: 0, 32: 0, 33: 0, 34: 0, 35: 0, 36: 0, 37: 0, 38: 0, 39: 0, 40: 0, 41: 0, 42: 0, 43: 0, 44: 0, 45: 0, 46: 0, 47: 0, 48: 0, 49: 0, 50: 0, 51: 0, 52: 0, 53: 0, 54: 0, 55: 0, 56: 0, 57: 0, 58: 0, 59: 0, 60: 0, 61: 0, 62: 0, 63: 0, 64: 0, 65: 0, 66: 0, 67: 0, 68: 0, 69: 0, 70: 0, 71: 0, 72: 0, 73: 0, 74: 0, 75: 0, 76: 0, 77: 0, 78: 0, 79: 0, 80: 0, 81: 0, 82: 0, 83: 0, 84: 0, 85: 0, 86: 0, 87: 0, 88: 0, 89: 0, 90: 0, 91: 0, 92: 0, 93: 0, 94: 0, 95: 0, 96: 0, 97: 0, 98: 0, 99: 0, 100: 0}\n",
      "-3\n",
      "3\n",
      "[1, 4, 6, 6, 5, 2, 1]\n",
      "index: [-3, -2, -1, 0, 1, 2, 3]\n",
      "correlation: [1, 4, 6, 6, 5, 2, 1]\n"
     ]
    },
    {
     "data": {
      "image/png": "[encoded data removed]",
      "text/plain": [
       "<Figure size 640x480 with 1 Axes>"
      ]
     },
     "metadata": {},
     "output_type": "display_data"
    }
   ],
   "source": [
    "import numpy as np \n",
    "import matplotlib.pyplot as plt\n",
    "#cross correlation implementing\n",
    "\n",
    "#calculating cross correlation\n",
    "def cross_correlation(x,h):\n",
    "    y = {key:0 for key in range(-100,101)}\n",
    "    for l in range(-100,101):\n",
    "        for n in range(-100,101):\n",
    "            if -100<=n-l<=100:\n",
    "                y[l]+=x[n]*h[n-l]\n",
    "    return y;\n",
    "    \n",
    "#set x and h default value 0 with length 100\n",
    "x = {key:0 for key in range(-100,101)} #dictionary in python\n",
    "h = {key:0 for key in range(-100,101)}\n",
    "\n",
    "#define x and h\n",
    "x[0]=1\n",
    "x[1]=2\n",
    "x[2]=1\n",
    "x[3]=1\n",
    "\n",
    "h[0]=1\n",
    "h[1]=1\n",
    "h[2]=2\n",
    "h[3]=1\n",
    "\n",
    "y = cross_correlation(x,h)\n",
    "print(y)\n",
    "\n",
    "#method-1 for extracting value from the y array\n",
    "n1 = 4 #actual length of the x(n)\n",
    "n2 = 4 #actual length of the h(n)\n",
    "x_low = 0\n",
    "h_low = 0\n",
    "st_indx = x_low - (h_low+n2-1)\n",
    "end_indx = st_indx + n1 + n2 - 2\n",
    "print(st_indx)\n",
    "print(end_indx)\n",
    "result = []\n",
    "for i in range(st_indx,end_indx+1):\n",
    "    result.append(y[i])\n",
    "print(result)    \n",
    "\n",
    "#method-2 for extracting value from the y array\n",
    "correlation_result = []\n",
    "index = []\n",
    "\n",
    "for i in range(-100,101):\n",
    "    if y[i]!=0:\n",
    "        correlation_result.append(y[i])\n",
    "        index.append(i)\n",
    "\n",
    "print(\"index:\",index)\n",
    "print(\"correlation:\",correlation_result)\n",
    "plt.stem(index, correlation_result)\n",
    "plt.xlabel('index')\n",
    "plt.ylabel('y(n)')\n",
    "plt.title('correlation')\n",
    "plt.grid(True)\n",
    "plt.show()\n"
   ]
  },
  {
   "cell_type": "code",
   "execution_count": null,
   "id": "44598834-964e-490e-a901-8d08921a2aef",
   "metadata": {},
   "outputs": [],
   "source": []
  }
 ],
 "metadata": {
  "kernelspec": {
   "display_name": "Python 3 (ipykernel)",
   "language": "python",
   "name": "python3"
  },
  "language_info": {
   "codemirror_mode": {
    "name": "ipython",
    "version": 3
   },
   "file_extension": ".py",
   "mimetype": "text/x-python",
   "name": "python",
   "nbconvert_exporter": "python",
   "pygments_lexer": "ipython3",
   "version": "3.11.7"
  }
 },
 "nbformat": 4,
 "nbformat_minor": 5
}
