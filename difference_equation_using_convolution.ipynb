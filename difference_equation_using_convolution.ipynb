{
 "cells": [
  {
   "cell_type": "code",
   "execution_count": 1,
   "id": "153795de-0978-4129-a279-7da17487a9fd",
   "metadata": {},
   "outputs": [],
   "source": [
    "import numpy as np\n",
    "import matplotlib.pyplot as plt"
   ]
  },
  {
   "cell_type": "code",
   "execution_count": 2,
   "id": "3018def3-af0a-45ee-9bd2-ba10fcc0c4b7",
   "metadata": {},
   "outputs": [],
   "source": [
    "def convolve(x, h):\n",
    "    len_x = len(x)\n",
    "    len_h = len(h)\n",
    "    len_y = len_x + len_h - 1\n",
    "    y = [0] * len_y\n",
    "\n",
    "    for i in range(len_y):\n",
    "        for k in range(len_x):\n",
    "            if(i - k >= 0 and i - k < len_h):\n",
    "                y[i] += x[k] * h[i - k]\n",
    "\n",
    "    return y"
   ]
  },
  {
   "cell_type": "code",
   "execution_count": 6,
   "id": "ab60f3c1-1528-4ca3-b3af-31087e07bd09",
   "metadata": {},
   "outputs": [
    {
     "name": "stdout",
     "output_type": "stream",
     "text": [
      "y(n) = [0.3 1.  2.  3.  4.  3.2 1.5]\n"
     ]
    }
   ],
   "source": [
    "x = np.array([1, 2, 3, 4, 5])\n",
    "h = np.array([0.3, 0.4, 0.3])\n",
    "y = np.convolve(x, h)\n",
    "print('y(n) =', y)"
   ]
  },
  {
   "cell_type": "code",
   "execution_count": null,
   "id": "b9a8f493-8baf-484c-a09e-684adc3f42c6",
   "metadata": {},
   "outputs": [],
   "source": []
  }
 ],
 "metadata": {
  "kernelspec": {
   "display_name": "Python 3 (ipykernel)",
   "language": "python",
   "name": "python3"
  },
  "language_info": {
   "codemirror_mode": {
    "name": "ipython",
    "version": 3
   },
   "file_extension": ".py",
   "mimetype": "text/x-python",
   "name": "python",
   "nbconvert_exporter": "python",
   "pygments_lexer": "ipython3",
   "version": "3.11.7"
  }
 },
 "nbformat": 4,
 "nbformat_minor": 5
}
